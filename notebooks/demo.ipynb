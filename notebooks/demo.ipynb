{
 "cells": [
  {
   "cell_type": "code",
   "execution_count": null,
   "id": "danish-insulin",
   "metadata": {},
   "outputs": [],
   "source": [
    "import numpy as np\n",
    "from simbin.random import sample_simplex, sample_bin_prob\n",
    "from simbin.optim import adjust_prob_mat"
   ]
  },
  {
   "cell_type": "markdown",
   "id": "stone-giant",
   "metadata": {},
   "source": [
    "## Probablility Matrix\n",
    "\n",
    "* diagonal $P(X_j = 1)$\n",
    "* upper triangular $P(X_i = 1, X_j = 1)$"
   ]
  },
  {
   "cell_type": "code",
   "execution_count": null,
   "id": "guilty-database",
   "metadata": {},
   "outputs": [],
   "source": [
    "samples = sample_simplex(3, size=5)"
   ]
  },
  {
   "cell_type": "code",
   "execution_count": null,
   "id": "different-composite",
   "metadata": {},
   "outputs": [],
   "source": [
    "prob_mat = np.array([[0.5, 0.1, 0.1],\n",
    "                     [0.0, 0.5, 0.1],\n",
    "                     [0.0, 0.0, 0.5]])"
   ]
  },
  {
   "cell_type": "code",
   "execution_count": null,
   "id": "metallic-morgan",
   "metadata": {},
   "outputs": [],
   "source": [
    "adjusted_prob_mat = adjust_prob_mat(prob_mat)"
   ]
  },
  {
   "cell_type": "code",
   "execution_count": null,
   "id": "contrary-solid",
   "metadata": {},
   "outputs": [],
   "source": [
    "samples = sample_bin_prob(adjusted_prob_mat, size=2)"
   ]
  },
  {
   "cell_type": "code",
   "execution_count": null,
   "id": "religious-trade",
   "metadata": {},
   "outputs": [],
   "source": [
    "# take the first sample\n",
    "prob = samples[0].reshape(2, 2, 2)"
   ]
  },
  {
   "cell_type": "code",
   "execution_count": null,
   "id": "systematic-relief",
   "metadata": {},
   "outputs": [],
   "source": [
    "# probability of P(X_1 = 1, X_2 = 1, X_3 = 0)\n",
    "prob[1, 1, 0]"
   ]
  },
  {
   "cell_type": "code",
   "execution_count": null,
   "id": "double-atmosphere",
   "metadata": {},
   "outputs": [],
   "source": []
  }
 ],
 "metadata": {
  "kernelspec": {
   "display_name": "Python 3",
   "language": "python",
   "name": "python3"
  },
  "language_info": {
   "codemirror_mode": {
    "name": "ipython",
    "version": 3
   },
   "file_extension": ".py",
   "mimetype": "text/x-python",
   "name": "python",
   "nbconvert_exporter": "python",
   "pygments_lexer": "ipython3",
   "version": "3.8.8"
  }
 },
 "nbformat": 4,
 "nbformat_minor": 5
}
